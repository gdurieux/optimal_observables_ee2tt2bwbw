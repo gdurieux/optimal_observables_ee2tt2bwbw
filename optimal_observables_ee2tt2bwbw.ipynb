{
 "cells": [
  {
   "cell_type": "markdown",
   "metadata": {},
   "source": [
    "# Optimal-observable analysis of $e^+e^-\\to t\\bar{t}\\to bW^+ \\bar{b}W^-$\n",
    "\n",
    "We provide here some numerical results conserning the optimal observable analysis of the resonant top-quark production at lepton colliders.\n",
    "\n",
    "The statistically optimal observables are defined from an analytical leading-order computation of the standard-model and effective-field-theory differential cross section for the resonant $e^+e^-\\to t\\bar{t}\\to bW^+ \\bar{b}W^-$ production, in the massless $b$ quark limit.\n",
    "\n",
    "In particular, the statistically optimal observable definition does not take into account beam structure, extra radiation (the top and anti-top are assumed back to back), finite detector resolutions, off-shell top-quark effects, etc.\n",
    "\n",
    "This does not stop one from making accurate prediction for these observables with a manageably simple definition. Off-shell and radiative QCD correction are discussed in the paper. Finite efficiencies are chosen so as to reproduce full-simulation statistical uncertainties.\n",
    "\n",
    "## Computation from a LHE file\n",
    "\n",
    "Computing optimal observables from a LHE file is possible with the `optimal_observables_ee2tt2bwbw_from_lhe.cpp` code enclosed. Change `sqs`, `polp` and `pole` to the centre-of-mass energy, positron beam polarization and electron beam polarization; `lhe_name` to the path of the LHE file, `root_name` to the name of the rootfile in which kinematic variables are to be stored.\n",
    "\n",
    "\n",
    "## Computation from analytical expression alone\n",
    "\n",
    "In the rest of this notebook, we detail the computation and provide some sample results for the computation of the covariance matrices:\n",
    "$${\\rm cov}(C_i,C_j)^{-1} =\n",
    "\\epsilon\\mathcal{L}\\int {\\rm d}\\Phi\n",
    "\\left(\n",
    "\\frac{{\\rm d}\\sigma_i}{{\\rm d}\\Phi}\n",
    "\\frac{{\\rm d}\\sigma_j}{{\\rm d}\\Phi}\n",
    "\\Big/\n",
    "\\frac{{\\rm d}\\sigma_0}{{\\rm d}\\Phi}\n",
    "\\right)$$\n",
    "at the $C_i=0,\\forall i$ point (i.e. the SM point), given a distribution\n",
    "$$\\frac{{\\rm d}\\sigma}{{\\rm d}\\Phi} = \\frac{{\\rm d}\\sigma_0}{{\\rm d}\\Phi} + C_i \\frac{{\\rm d}\\sigma_i}{{\\rm d}\\Phi}$$\n",
    "over the phase space $\\Phi$. Factors of $\\mathcal{L}$ and $\\epsilon$ account for the integrated luminosity and efficiency of the run considered (specified by a centre-of-mass energy and beam polarizations).\n",
    "\n",
    "Note the covariance on the operator coefficients is the inverse of the covariance on the optimal observables."
   ]
  },
  {
   "cell_type": "code",
   "execution_count": 1,
   "metadata": {
    "collapsed": true
   },
   "outputs": [],
   "source": [
    "# loading some useful packages\n",
    "import numpy as np\n",
    "import matplotlib.pyplot as plt\n",
    "from matplotlib import cm\n",
    "\n",
    "# defining helper functions and variables\n",
    "\n",
    "# EFT operator names\n",
    "op_names = ['ClqA', 'CeqA', 'CpqA', 'ClqV', 'CeqV', 'CpqV', 'CuZR', 'CuAR', 'CuZI', 'CuAI']\n",
    "\n",
    "# print vector and matrices\n",
    "def tprint(t,fmt='{:<9.2g}'):\n",
    "    if hasattr(t[0], '__iter__'):\n",
    "        for l in t:\n",
    "            print (fmt*len(l)).format(*list(l))\n",
    "    else:\n",
    "        print (fmt*len(t)).format(*list(t))"
   ]
  },
  {
   "cell_type": "markdown",
   "metadata": {},
   "source": [
    "## Phase-space integration\n",
    "The $\\frac{{\\rm d}\\sigma_0}{{\\rm d}\\Phi}$ and $\\frac{{\\rm d}\\sigma_i}{{\\rm d}\\Phi}$ phase-space distribution for the resonant $e^+e^-\\to t\\bar{t}\\to bW^+ \\bar{b}W^-$ process and $C_i\\in \\{ C_{lq}^A, C_{eq}^A, C_{\\varphi q}^A, C_{lq}^V, C_{eq}^V, C_{\\varphi q}^V, C_{uZ}^R, C_{uA}^R, C_{uZ}^I, C_{uA}^I\\}$ are provided as `c++` code in the file ... .\n",
    "\n",
    "The numerical integration over the phase space specified by five angles, in the narrow top-quark width approximation, is performed here with a ROOT routine, through pyROOT. The five angles are:\n",
    "- `t0` the top-quark production angle\n",
    "- `t1,f1` the polar and azimuthal angles specifying the direction of the $W$ in the top-quark rest frame,\n",
    "- `t2,f2` in the anti-top rest frame."
   ]
  },
  {
   "cell_type": "code",
   "execution_count": 2,
   "metadata": {},
   "outputs": [
    {
     "data": {
      "application/javascript": [
       "\n",
       "require(['notebook'],\n",
       "  function() {\n",
       "    IPython.CodeCell.config_defaults.highlight_modes['magic_text/x-c++src'] = {'reg':[/^%%cpp/]};\n",
       "    console.log(\"JupyROOT - %%cpp magic configured\");\n",
       "  }\n",
       ");\n"
      ]
     },
     "metadata": {},
     "output_type": "display_data"
    },
    {
     "name": "stdout",
     "output_type": "stream",
     "text": [
      "Welcome to JupyROOT 6.08/06\n",
      "\n",
      "Linear EFT dependences for sqrt(s)=500, P(e+,e-)=(0,0), in fb:\n",
      "\n",
      "SM       ClqA     CeqA     CpqA     ClqV     CeqV     CpqV     CuZR     CuAR     CuZI     CuAI     \n",
      "5.7e+02  2.2e+02  -1.9e+02 7.1      -1.1e+03 -7.4e+02 -8.3     34       2.1e+02  2.4e-08  6.5e-16  \n",
      "\n",
      "Inverse covariance matrix stripped from luminosity and efficiency factors,\n",
      "for sqrt(s)=500, P(e+,e-)=(0,0), in fb:\n",
      "\n",
      "ClqA     CeqA     CpqA     ClqV     CeqV     CpqV     CuZR     CuAR     CuZI     CuAI     \n",
      "6.2e+02  -3.2e+02 16       -1.7e+02 -1.5e+02 -0.77    3.1      32       -8.9e-07 -7.5e-07 \n",
      "-3.2e+02 3e+02    -11      2e+02    2e+02    0.38     -1.3     -42      -1.1e-05 -1.4e-05 \n",
      "16       -11      0.46     -6.2     -5.9     -0.02    0.077    1.2      -1.1e-06 1.2e-08  \n",
      "-1.7e+02 2e+02    -6.2     2.4e+03  1.4e+03  20       -80      -4.3e+02 -2.3e-06 0        \n",
      "-1.5e+02 2e+02    -5.9     1.4e+03  1.1e+03  8.9      -37      -2.9e+02 -8.4e-08 0        \n",
      "-0.77    0.38     -0.02    20       8.9      0.21     -0.86    -3.3     4.1e-05  5e-07    \n",
      "3.1      -1.3     0.077    -80      -37      -0.86    3.7      14       -4.2e-09 -2e-05   \n",
      "32       -42      1.2      -4.3e+02 -2.9e+02 -3.3     14       83       4.6e-10  3.3e-05  \n",
      "-8.9e-07 -1.1e-05 -1.1e-06 -2.3e-06 -8.4e-08 4.1e-05  -4.2e-09 4.6e-10  0.054    0.28     \n",
      "-7.5e-07 -1.4e-05 1.2e-08  0        0        5e-07    -2e-05   3.3e-05  0.28     1.7      \n"
     ]
    }
   ],
   "source": [
    "# this cell requires pyROOT\n",
    "import ROOT\n",
    "\n",
    "# load cpp code\n",
    "with open('optimal_observables_ee2tt2bwbw.cpp','r') as f:\n",
    "    ROOT.gInterpreter.Declare(f.read())\n",
    "    f.close()\n",
    "\n",
    "# give nice names to functions\n",
    "integral = ROOT.integral\n",
    "integrand = ROOT.LinearIntegrand\n",
    "## Now, integral(integrand(sqs,pp,pe,i,j)) returns the phase-space integral with its integration error.\n",
    "## When i=0, linear dependences are computed. The i,j=0,0 term is the SM one.\n",
    "## For j=1,...10, the dependence in the operator coefficients listed previously is computed.\n",
    "## When i=1,..10 and j=1,...10, inverse covariance matrix elements are returned,\n",
    "## stripped from luminosity and efficiency factors.\n",
    "\n",
    "# E.g.\n",
    "# compute the SM and linear EFT contributions in fb\n",
    "# at sqrt(s)=500 GeV for P(e⁺,e⁻)=(0,0) unpolarized beams\n",
    "sqs,pp,pe = 500,0,0\n",
    "linear_dependences = [integral(integrand(sqs,pp,pe,0,i))[0] for i in range(11)]\n",
    "\n",
    "# print results (again in fb)\n",
    "# they can be compared with the numbers given in Table 1 of the paper\n",
    "print '\\nLinear EFT dependences for sqrt(s)={:d}, P(e+,e-)=({:},{:}), in fb:\\n'.format(sqs,pp,pe)\n",
    "tprint(['SM']+op_names,fmt='{:<9}')\n",
    "tprint(linear_dependences)\n",
    "\n",
    "# E.g.\n",
    "# compute the inverse covariance matrix, stripped from luminosity and efficiency factors, in fb\n",
    "# save time by computing only the upper diagonal\n",
    "stripped_inverse_covariance = [[0 if j<i else integral(integrand(sqs,pp,pe,i,j))[0] for j in range(1,11)] for i in range(1,11)]\n",
    "# just make it symmetric now\n",
    "stripped_inverse_covariance = [[stripped_inverse_covariance[i][j] if j>=i else stripped_inverse_covariance[j][i] for j in range(10)] for i in range(10)]\n",
    "# print it\n",
    "print '\\nInverse covariance matrix stripped from luminosity and efficiency factors,\\nfor sqrt(s)={:d}, P(e+,e-)=({:},{:}), in fb:\\n'.format(sqs,pp,pe)\n",
    "tprint(op_names,fmt='{:<9}')\n",
    "tprint(stripped_inverse_covariance)"
   ]
  },
  {
   "cell_type": "markdown",
   "metadata": {},
   "source": [
    "## Limit computation\n",
    "One can now use precomputed stripped inverse covariance matrices for several energies and beam polarization, combine these runs for various scenarios and obtain constraints on the operator coefficients. We consider the three benchmark scenarios defined in the paper, namely:\n",
    "- CC-like: 200/fb at 350 GeV + 1500/fb at 365 GeV with P(e⁺,e⁻)=(0,0)\n",
    "- ILC-like: 500/fb at 500 GeV + 1000/fb at 1000 GeV with P(e⁺,e⁻)=(0,±0.8)\n",
    "- CLIC-like: 500/fb at 380 GeV + 1500/fb at 1400 GeV + 3000/fb at 3000 GeV with P(e⁺,e⁻)=(±0.3,∓0.8)\n",
    "\n",
    "The luminosities are equaly split between the two beam polarizations, when available."
   ]
  },
  {
   "cell_type": "markdown",
   "metadata": {},
   "source": [
    "### Common definitions"
   ]
  },
  {
   "cell_type": "code",
   "execution_count": 3,
   "metadata": {
    "collapsed": true
   },
   "outputs": [],
   "source": [
    "# efficiencies required to reproduce full-simulation results at CLIC energies\n",
    "# (averaged over the two beam polarisations)\n",
    "eff={ 350:0.10,\n",
    "      365:0.10,\n",
    "      380:0.10,\n",
    "      500:0.10,\n",
    "     1000:0.06,\n",
    "     1400:0.06,\n",
    "     3000:0.05}\n",
    "\n",
    "# some SM parameters\n",
    "mt = 172.5; gf = 1.1663787e-5; mz = 91.188; al = 1./132.507\n",
    "v = 1./np.sqrt(gf*np.sqrt(2)); ee = np.sqrt(4*np.pi*al); yt = mt*np.sqrt(2)/v\n",
    "th = .5*np.arcsin(ee*v/mz); sw=np.sin(th); cw=np.cos(th); sw2=sw*sw; cw2=cw*cw\n",
    "gB = ee/cw; gW = ee/sw; mw = gW*v/2.;\n",
    "\n",
    "# matrix for the conversion\n",
    "# from cpQM,cpt,ctW,ctZ,ctWI,ctZI,cQlM1,cQe1,ctl1,cte1 (TOP LHC WG convensions, see 1802.07237)\n",
    "# to   ClqA,CeqA,CpqA,ClqV,CeqV,CpqV,CuZ,CuA,CuZI,CuAI\n",
    "R = np.array([\n",
    "    [0,\t0,\t - 1./2*yt**2,\t0,\t0,\t1./2*yt**2,\t0,\t0,\t0,\t0\t],\n",
    "    [0,\t0,\t1./2*yt**2,\t0,\t0,\t1./2*yt**2,\t0,\t0,\t0,\t0\t],\n",
    "    [0,\t0,\t0,\t0,\t0,\t0,\tcw*yt*ee,\tsw*yt*ee,\t0,\t0\t],\n",
    "    [0,\t0,\t0,\t0,\t0,\t0,\tyt*ee,\t0,\t0,\t0\t],\n",
    "    [0,\t0,\t0,\t0,\t0,\t0,\t0,\t0\t,\tcw*yt*ee,\tsw*yt*ee],\n",
    "    [0,\t0,\t0,\t0,\t0,\t0,\t0,\t0\t,\tyt*ee,\t0],\n",
    "    [ - 1./2,\t0,\t0,\t1./2,\t0,\t0,\t0,\t0,\t0,\t0\t],\n",
    "    [0,\t - 1./2,\t0,\t0,\t1./2,\t0,\t0,\t0,\t0,\t0\t],\n",
    "    [1./2,\t0,\t0,\t1./2,\t0,\t0,\t0,\t0,\t0,\t0\t],\n",
    "    [0,\t1./2,\t0,\t0,\t1./2,\t0,\t0,\t0,\t0,\t0\t]\n",
    "    ])\n",
    "Rinv = np.linalg.inv(R)\n",
    "# corresponding operator coefficient names\n",
    "op_namesR = ['cpQM','cpt','ctW','ctZ','ctWI','ctZI','cQlM1','cQe1','ctl1','cte1']\n",
    "\n",
    "# produce some sample results for a given total inverse stripped covariance matrix 'tot'\n",
    "def showFitResults(tot,scenario_name):\n",
    "    # compute individual and global one-sigma limits\n",
    "    ind = 1./np.sqrt(np.diag(tot))\n",
    "    glo = np.sqrt(np.diag(np.linalg.inv(tot)))\n",
    "\n",
    "    # print these\n",
    "    print 'Individual and global one-sigma limits:\\n'\n",
    "    tprint(op_names,fmt='{:<9}')\n",
    "    tprint(ind)\n",
    "    tprint(glo)\n",
    "\n",
    "    # compute also the correlation matrix\n",
    "    corr = [[np.linalg.inv(tot)[i,j]/glo[i]/glo[j] for j in range(10)] for i in range(10)]\n",
    "\n",
    "    # compute GDP, geometric average of the constraints' strength\n",
    "    gdp = np.linalg.det(tot)**(-1./(2*len(tot[0])))\n",
    "    print '\\nGlobal determinant parameter (GDP):',gdp\n",
    "    \n",
    "    # plot correlation and limits\n",
    "    i = range(len(glo)-1,-1,-1)\n",
    "    plt.barh( i, glo,            label=    'global one-sigma constraints' )\n",
    "    plt.barh( i, ind, height=.3, label='individual one-sigma constraints' )\n",
    "    plt.plot( [gdp,gdp],[-0.5,9.5], '--', color='.5', label='GDP')\n",
    "    plt.xscale('log')\n",
    "    plt.xlim(1e-4,1e2)\n",
    "    plt.yticks( i, op_names)\n",
    "    plt.title(scenario_name+' scenario')\n",
    "    plt.legend()\n",
    "    plt.show()\n",
    "\n",
    "    plt.matshow(np.abs(corr),cmap=cm.get_cmap('viridis_r'),vmin=0,vmax=2)\n",
    "    plt.title('correlation matrix')\n",
    "    plt.xticks([])\n",
    "    plt.yticks(range(10),op_names)\n",
    "    plt.show()\n",
    "\n",
    "    # decompose the covariance matrix in eigenvalues and eigenvectors\n",
    "    l,v = np.linalg.eig(tot) # tot = v.dot(np.diag(l)).dot(v.T)\n",
    "    print '\\nDecomposition of the covariance matrix in eigenvectors and eigenvalues:\\n'\n",
    "    tprint(op_names,fmt='{:<9}')\n",
    "    for i in np.argsort(1./np.sqrt(l)):\n",
    "        tprint(list(v.T[i])+[1./np.sqrt(l[i])])\n",
    "    \n",
    "    # convert to the conventions of the LHC TOP WG (see 1802.07237)\n",
    "    totR = Rinv.T.dot(tot).dot(Rinv)\n",
    "    # compute individual and global one-sigma limits\n",
    "    indR = 1./np.sqrt(np.diag(totR))\n",
    "    gloR = np.sqrt(np.diag(np.linalg.inv(totR)))\n",
    "    # print them\n",
    "    print '\\nIndividual and global one-sigma limits, in the LHC TOP WG conventions (see 1802.07237):\\n'\n",
    "    tprint(op_namesR,fmt='{:<9}')\n",
    "    tprint(indR)\n",
    "    tprint(gloR)\n",
    "    "
   ]
  },
  {
   "cell_type": "markdown",
   "metadata": {},
   "source": [
    "### CC-like scenario"
   ]
  },
  {
   "cell_type": "code",
   "execution_count": 4,
   "metadata": {},
   "outputs": [
    {
     "data": {
      "image/png": "[encoded data removed]",
      "text/plain": [
       "<matplotlib.figure.Figure at 0x7efffca2a750>"
      ]
     },
     "metadata": {},
     "output_type": "display_data"
    },
    {
     "data": {
      "image/png": "[encoded data removed]",
      "text/plain": [
       "<matplotlib.figure.Figure at 0x7effe5f86dd0>"
      ]
     },
     "metadata": {},
     "output_type": "display_data"
    },
    {
     "name": "stdout",
     "output_type": "stream",
     "text": [
      "Individual and global one-sigma limits:\n",
      "\n",
      "ClqA     CeqA     CpqA     ClqV     CeqV     CpqV     CuZR     CuAR     CuZI     CuAI     \n",
      "0.015    0.022    0.29     0.003    0.0045   0.17     0.045    0.01     1.2      0.22     \n",
      "0.71     0.62     20       0.29     0.37     8.9      0.38     0.59     3.4      0.62     \n",
      "\n",
      "Global determinant parameter (GDP): 0.213052575332\n",
      "\n",
      "Decomposition of the covariance matrix in eigenvectors and eigenvalues:\n",
      "\n",
      "ClqA     CeqA     CpqA     ClqV     CeqV     CpqV     CuZR     CuAR     CuZI     CuAI     \n",
      "0.013    -0.015   0.00088  -0.81    -0.53    -0.012   0.042    0.24     -6.1e-07 -1.9e-11 0.0025   \n",
      "-0.73    0.48     -0.04    -0.27    0.39     -0.022   0.086    -0.012   -5.1e-06 2e-08    0.013    \n",
      "0.44     -0.2     0.022    -0.46    0.72     -0.038   0.15     -0.036   -1.2e-05 -2.4e-08 0.014    \n",
      "-0.52    -0.85    0.008    -0.032   0.056    -0.0028  0.0027   -0.011   -1.4e-06 1.3e-07  0.038    \n",
      "-0.0046  -0.01    0.00017  0.21     -0.014   0.0057   0.83     0.52     0.00046  4.2e-05  0.13     \n",
      "8e-07    9.3e-07  1.6e-06  -1.8e-05 2.1e-05  -3.6e-05 -0.00015 1.2e-05  0.17     0.99     0.22     \n",
      "-0.0005  0.0026   -0.0017  -0.086   -0.2     0.042    0.53     -0.82    -0.0039  0.00077  0.62     \n",
      "-5.8e-05 7.1e-05  0.0017   0.0012   -0.0028  -0.052   0.0027   -0.0052  0.98     -0.17    3.4      \n",
      "9.7e-06  0.00011  -0.00021 0.031    -0.038   -1       0.018    -0.032   -0.051   0.0088   8.9      \n",
      "0.035    -0.031   -1       0.00014  0.00034  5.2e-05  -0.00085 0.0013   0.0017   -0.00029 20       \n",
      "\n",
      "Individual and global one-sigma limits, in the LHC TOP WG conventions (see 1802.07237):\n",
      "\n",
      "cpQM     cpt      ctW      ctZ      ctWI     ctZI     cQlM1    cQe1     ctl1     cte1     \n",
      "0.14     0.15     0.0014   0.0018   0.032    0.04     0.0029   0.0045   0.003    0.0043   \n",
      "11       11       0.042    0.12     0.83     1        0.38     0.37     0.38     0.36     \n"
     ]
    }
   ],
   "source": [
    "# use precomputed covariance matrices\n",
    "## The following file contains a dictionary called 'var'\n",
    "## with the stripped inverse covariance matrix elements and integration uncertainties.\n",
    "execfile('var_cc.py')\n",
    "\n",
    "# function to make nice matrices out of the dictionary\n",
    "mat = lambda sqs,pp,pe: np.array([[varcc[sqs,pp,pe,i,j][0] if j>=i else varcc[sqs,pp,pe,j,i][0] for i in range(1,11)] for j in range(1,11)])\n",
    "\n",
    "# construct the total inverse stripped covariance matrix by combining runs\n",
    "tot = \\\n",
    "    +1500*eff[365]*mat(365.,0,0) \\\n",
    "    + 200*eff[350]*mat(350.,0,0)\n",
    "\n",
    "showFitResults(tot,'CC-like')"
   ]
  },
  {
   "cell_type": "markdown",
   "metadata": {},
   "source": [
    "### ILC-like scenario"
   ]
  },
  {
   "cell_type": "code",
   "execution_count": 5,
   "metadata": {},
   "outputs": [
    {
     "data": {
      "image/png": "[encoded data removed]",
      "text/plain": [
       "<matplotlib.figure.Figure at 0x7effe5ea9a90>"
      ]
     },
     "metadata": {},
     "output_type": "display_data"
    },
    {
     "data": {
      "image/png": "[encoded data removed]",
      "text/plain": [
       "<matplotlib.figure.Figure at 0x7effe5e2b310>"
      ]
     },
     "metadata": {},
     "output_type": "display_data"
    },
    {
     "name": "stdout",
     "output_type": "stream",
     "text": [
      "Individual and global one-sigma limits:\n",
      "\n",
      "ClqA     CeqA     CpqA     ClqV     CeqV     CpqV     CuZR     CuAR     CuZI     CuAI     \n",
      "0.0013   0.0014   0.14     0.00092  0.001    0.092    0.021    0.011    0.09     0.048    \n",
      "0.0019   0.0019   0.26     0.0016   0.0018   0.35     0.083    0.02     0.091    0.048    \n",
      "\n",
      "Global determinant parameter (GDP): 0.0147805884096\n",
      "\n",
      "Decomposition of the covariance matrix in eigenvectors and eigenvalues:\n",
      "\n",
      "ClqA     CeqA     CpqA     ClqV     CeqV     CpqV     CuZR     CuAR     CuZI     CuAI     \n",
      "0.22     -0.19    0.0022   -0.81    -0.51    -0.0024  0.011    0.061    -2.6e-09 -1.4e-09 0.00087  \n",
      "-0.13    -0.32    0.00088  0.53     -0.77    0.0079   -0.036   0.011    -7.4e-09 -1.9e-09 0.001    \n",
      "-0.9     0.33     -0.0065  -0.23    -0.15    -0.00075 0.0037   0.023    7.9e-09  2e-09    0.0013   \n",
      "0.35     0.87     -0.0023  0.11     -0.35    0.0031   -0.016   0.016    4.7e-08  -1.5e-09 0.0015   \n",
      "-0.0035  0.0053   -0.014   -0.051   -0.044   0.027    -0.14    -0.99    4.6e-08  3.7e-07  0.02     \n",
      "0.0017   0.004    -0.0064  0.024    -0.034   -0.21    0.97     -0.14    2.6e-07  1.9e-07  0.036    \n",
      "2.7e-09  -8.7e-09 -8.5e-08 1.4e-08  2.3e-08  -1.7e-07 -2e-07   4e-07    0.11     0.99     0.048    \n",
      "-1.6e-08 -4.4e-08 9.1e-07  -6.4e-09 1.8e-08  -3e-06   -8.9e-07 3.2e-08  0.99     -0.11    0.091    \n",
      "0.0055   -0.0049  -1       0.00051  0.00079  0.011    -0.0022  0.015    9.3e-07  -1.9e-07 0.26     \n",
      "-0.00014 -0.0004  -0.01    0.00031  4e-05    -0.98    -0.21    0.0026   -3.1e-06 1.4e-07  0.36     \n",
      "\n",
      "Individual and global one-sigma limits, in the LHC TOP WG conventions (see 1802.07237):\n",
      "\n",
      "cpQM     cpt      ctW      ctZ      ctWI     ctZI     cQlM1    cQe1     ctl1     cte1     \n",
      "0.076    0.076    0.0016   0.0018   0.0069   0.0078   0.00069  0.00096  0.00083  0.00071  \n",
      "0.21     0.22     0.022    0.025    0.024    0.028    0.0012   0.0015   0.0014   0.0011   \n"
     ]
    }
   ],
   "source": [
    "# use precomputed covariance matrices\n",
    "## The following file contains a dictionary called 'var'\n",
    "## with the stripped inverse covariance matrix elements and integration uncertainties.\n",
    "execfile('var_ilc.py')\n",
    "\n",
    "# function to make nice matrices out of the dictionary\n",
    "mat = lambda sqs,pp,pe: np.array([[var[sqs,pp,pe,i,j][0] if j>=i else var[sqs,pp,pe,j,i][0] for i in range(1,11)] for j in range(1,11)])\n",
    "\n",
    "# construct the total inverse stripped covariance matrix by combining runs\n",
    "tot = 500*eff[ 500]*.5*(mat( 500.,+.3,-.8)+mat( 500.,-.3,+.8)) \\\n",
    "    +1000*eff[1000]*.5*(mat(1000.,+.3,-.8)+mat(1000.,-.3,+.8))\n",
    "\n",
    "showFitResults(tot,'ILC-like')"
   ]
  },
  {
   "cell_type": "markdown",
   "metadata": {},
   "source": [
    "### CLIC-like scenario"
   ]
  },
  {
   "cell_type": "code",
   "execution_count": 6,
   "metadata": {},
   "outputs": [
    {
     "data": {
      "image/png": "[encoded data removed]",
      "text/plain": [
       "<matplotlib.figure.Figure at 0x7effe597a6d0>"
      ]
     },
     "metadata": {},
     "output_type": "display_data"
    },
    {
     "data": {
      "image/png": "[encoded data removed]",
      "text/plain": [
       "<matplotlib.figure.Figure at 0x7effe57cf110>"
      ]
     },
     "metadata": {},
     "output_type": "display_data"
    },
    {
     "name": "stdout",
     "output_type": "stream",
     "text": [
      "Individual and global one-sigma limits:\n",
      "\n",
      "ClqA     CeqA     CpqA     ClqV     CeqV     CpqV     CuZR     CuAR     CuZI     CuAI     \n",
      "0.00028  0.00031  0.19     0.00023  0.00026  0.1      0.024    0.012    0.058    0.028    \n",
      "0.00034  0.00037  0.26     0.00027  0.00032  0.23     0.055    0.014    0.06     0.028    \n",
      "\n",
      "Global determinant parameter (GDP): 0.00677762600181\n",
      "\n",
      "Decomposition of the covariance matrix in eigenvectors and eigenvalues:\n",
      "\n",
      "ClqA     CeqA     CpqA     ClqV     CeqV     CpqV     CuZR     CuAR     CuZI     CuAI     \n",
      "-0.32    0.28     -0.00039 0.75     0.5      0.00024  -0.0012  -0.0074  1.9e-10  -2.4e-09 0.00021  \n",
      "0.11     0.49     -0.00022 -0.57    0.65     -0.00088 0.0042   -0.00027 -1.3e-09 -4.1e-09 0.00026  \n",
      "-0.88    0.25     -0.00074 -0.28    -0.29    -2.8e-05 0.00018  0.0041   2.3e-09  -3.3e-10 0.00028  \n",
      "-0.33    -0.78    0.00024  -0.17    0.5      -0.00052 0.0028   -0.0026  5.3e-09  -4.7e-09 0.00037  \n",
      "0.00044  -0.00075 0.0064   0.0066   0.0058   -0.026   0.13     0.99     1.3e-07  -1e-07   0.013    \n",
      "-0.0002  -0.00054 0.0033   -0.0031  0.0044   0.2      -0.97    0.13     -1.2e-06 -4.8e-06 0.027    \n",
      "-2.6e-09 -3.1e-09 -6.5e-08 -1.6e-08 2.8e-08  1e-06    -4.7e-06 7.4e-07  0.12     0.99     0.028    \n",
      "4e-09    4.1e-09  3.1e-08  -1.8e-09 -3.8e-10 7e-07    -4.4e-07 -6.7e-08 0.99     -0.12    0.06     \n",
      "4.4e-05  4.6e-05  -0.019   1.3e-05  -4.4e-05 0.98     0.21     -0.0014  -5.9e-07 6.1e-08  0.24     \n",
      "0.00068  -0.0006  -1       2.9e-05  4.9e-05  -0.018   -0.0063  0.0068   3.1e-08  -8.6e-08 0.26     \n",
      "\n",
      "Individual and global one-sigma limits, in the LHC TOP WG conventions (see 1802.07237):\n",
      "\n",
      "cpQM     cpt      ctW      ctZ      ctWI     ctZI     cQlM1    cQe1     ctl1     cte1     \n",
      "0.089    0.09     0.0017   0.002    0.004    0.0046   0.00016  0.00024  0.00019  0.00017  \n",
      "0.17     0.17     0.015    0.017    0.016    0.018    0.0002   0.00028  0.00023  0.0002   \n"
     ]
    }
   ],
   "source": [
    "# use precomputed covariance matrices\n",
    "## The following file contains a dictionary called 'var'\n",
    "## with the stripped inverse covariance matrix elements and integration uncertainties.\n",
    "execfile('var_clic.py')\n",
    "\n",
    "# function to make nice matrices out of the dictionary\n",
    "mat = lambda sqs,pp,pe: np.array([[varclic[sqs,pp,pe,i,j][0] if j>=i else varclic[sqs,pp,pe,j,i][0] for i in range(1,11)] for j in range(1,11)])\n",
    "\n",
    "# construct the total inverse stripped covariance matrix by combining runs\n",
    "tot = 500*eff[ 380]*.5*(mat( 380.,0,-.8)+mat( 380.,0,+.8)) \\\n",
    "    +1500*eff[1400]*.5*(mat(1400.,0,-.8)+mat(1400.,0,+.8)) \\\n",
    "    +3000*eff[3000]*.5*(mat(3000.,0,-.8)+mat(3000.,0,+.8))\n",
    "    \n",
    "showFitResults(tot,'CLIC-like')"
   ]
  }
 ],
 "metadata": {
  "kernelspec": {
   "display_name": "Python 2",
   "language": "python",
   "name": "python2"
  },
  "language_info": {
   "codemirror_mode": {
    "name": "ipython",
    "version": 2
   },
   "file_extension": ".py",
   "mimetype": "text/x-python",
   "name": "python",
   "nbconvert_exporter": "python",
   "pygments_lexer": "ipython2",
   "version": "2.7.12"
  }
 },
 "nbformat": 4,
 "nbformat_minor": 2
}
